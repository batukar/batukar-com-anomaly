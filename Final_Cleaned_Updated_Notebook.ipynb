{
 "cells": [
  {
   "cell_type": "code",
   "execution_count": 1,
   "metadata": {
    "colab": {
     "base_uri": "https://localhost:8080/"
    },
    "id": "nh_MqsAy6dw3",
    "outputId": "bf70e255-261b-4aab-cace-1284056549f8"
   },
   "outputs": [
    {
     "name": "stdout",
     "output_type": "stream",
     "text": [
      "Mounted at /content/drive\n"
     ]
    }
   ],
   "source": [
    "from google.colab import drive\n",
    "drive.mount('/content/drive')"
   ]
  },
  {
   "cell_type": "markdown",
   "metadata": {
    "id": "vh1kzOl97Bbm"
   },
   "source": [
    "Adım 1: Veriyi Okuma"
   ]
  },
  {
   "cell_type": "code",
   "execution_count": 88,
   "metadata": {
    "colab": {
     "base_uri": "https://localhost:8080/"
    },
    "id": "PsvLvbaG6kD8",
    "outputId": "0c306089-ed0d-4327-a9c3-f8755be287e5"
   },
   "outputs": [
    {
     "name": "stdout",
     "output_type": "stream",
     "text": [
      "Toplam log sayısı: 10\n",
      "Örnek loglar:\n",
      "217.131.103.132 - - [31/Dec/2024:04:15:21 +0300] \"GET /favicon.ico HTTP/1.1\" 404 1251 \"http://batukar.com/\" \"Mozilla/5.0 (Macintosh; Intel Mac OS X 10_15_7) AppleWebKit/605.1.15 (KHTML, like Gecko) Version/18.2 Safari/605.1.15\"\n",
      "217.131.103.132 - - [31/Dec/2024:04:15:21 +0300] \"GET /apple-touch-icon-precomposed.png HTTP/1.1\" 404 1251 \"-\" \"Safari/20620.1.16.11.8 CFNetwork/1568.300.101 Darwin/24.2.0\"\n",
      "217.131.103.132 - - [31/Dec/2024:04:15:21 +0300] \"GET /apple-touch-icon.png HTTP/1.1\" 404 1251 \"-\" \"Safari/20620.1.16.11.8 CFNetwork/1568.300.101 Darwin/24.2.0\"\n",
      "217.131.103.132 - - [31/Dec/2024:04:15:21 +0300] \"GET /cgi-sys/defaultwebpage.cgi HTTP/1.1\" 200 1929 \"http://batukar.com/\" \"Mozilla/5.0 (Macintosh; Intel Mac OS X 10_15_7) AppleWebKit/605.1.15 (KHTML, like Gecko) Version/18.2 Safari/605.1.15\"\n",
      "217.131.103.132 - - [31/Dec/2024:04:15:21 +0300] \"GET /img-sys/server_misconfigured.png HTTP/1.1\" 304 0 \"http://batukar.com/cgi-sys/defaultwebpage.cgi\" \"Mozilla/5.0 (Macintosh; Intel Mac OS X 10_15_7) AppleWebKit/605.1.15 (KHTML, like Gecko) Version/18.2 Safari/605.1.15\"\n"
     ]
    }
   ],
   "source": [
    "# Dosya yolunu tanımlayın\n",
    "file_path = '/content/drive/MyDrive/Colab Notebooks/Datasets/batukar-com'\n",
    "\n",
    "# Log verilerini listeye yükleme\n",
    "logs = []\n",
    "with open(file_path, 'r') as file:\n",
    "    logs = [line.strip() for line in file.readlines()]\n",
    "\n",
    "# İlk birkaç log kaydını yazdırarak kontrol edelim\n",
    "print(f\"Toplam log sayısı: {len(logs)}\")\n",
    "print(\"Örnek loglar:\")\n",
    "for log in logs[:5]:\n",
    "    print(log)"
   ]
  },
  {
   "cell_type": "code",
   "execution_count": 89,
   "metadata": {
    "colab": {
     "base_uri": "https://localhost:8080/"
    },
    "id": "nhZN9QmbFJy_",
    "outputId": "fdbcebb9-ec54-4b67-91f2-dd3fed719804"
   },
   "outputs": [
    {
     "name": "stdout",
     "output_type": "stream",
     "text": [
      "Log yapısı:\n",
      "ip: 217.131.103.132\n",
      "timestamp: 31/Dec/2024:04:15:21 +0300\n",
      "method: GET\n",
      "url: /favicon.ico\n",
      "protocol: HTTP/1.1\n",
      "status: 404\n",
      "size: 1251\n"
     ]
    }
   ],
   "source": [
    "# Logların genel yapısını analiz etme\n",
    "import re\n",
    "\n",
    "# Örnek bir log formatını inceleme\n",
    "example_log = logs[0]\n",
    "log_pattern = r'(?P<ip>\\d+\\.\\d+\\.\\d+\\.\\d+) - - \\[(?P<timestamp>.*?)\\] \"(?P<method>.*?) (?P<url>.*?) (?P<protocol>.*?)\" (?P<status>\\d+) (?P<size>\\d+|-)'\n",
    "match = re.match(log_pattern, example_log)\n",
    "\n",
    "if match:\n",
    "    print(\"Log yapısı:\")\n",
    "    for key, value in match.groupdict().items():\n",
    "        print(f\"{key}: {value}\")\n",
    "else:\n",
    "    print(\"Log formatı eşleşmedi.\")"
   ]
  },
  {
   "cell_type": "code",
   "execution_count": 90,
   "metadata": {
    "id": "Yk2StMXUFmeb"
   },
   "outputs": [],
   "source": [
    "\n",
    "import random\n",
    "\n",
    "# Sentetik veri üretim fonksiyonu\n",
    "def generate_synthetic_data(df, target_size=10000):\n",
    "    # Zaman damgasını datetime formatına dönüştürme\n",
    "    if 'timestamp' in df.columns:\n",
    "        df['timestamp'] = pd.to_datetime(df['timestamp'], errors='coerce')\n",
    "        df = df.dropna(subset=['timestamp'])\n",
    "\n",
    "    synthetic_data = df.copy()\n",
    "    rows = []\n",
    "\n",
    "    # Sentetik veri üretimi\n",
    "    while len(synthetic_data) + len(rows) < target_size:\n",
    "        for _, row in df.iterrows():\n",
    "            manipulated_row = row.copy()\n",
    "            manipulated_row['ip'] = f\"{random.randint(1, 255)}.{random.randint(1, 255)}.{random.randint(1, 255)}.{random.randint(1, 255)}\"\n",
    "            manipulated_row['timestamp'] = manipulated_row['timestamp'] + pd.Timedelta(seconds=random.randint(1, 3600))\n",
    "            manipulated_row['method'] = random.choice([\"GET\", \"POST\", \"HEAD\", \"OPTIONS\", \"DELETE\"])\n",
    "            manipulated_row['status'] = random.choice([\"200\", \"404\", \"500\", \"403\", \"302\"])\n",
    "            manipulated_row['url'] = manipulated_row['url'] + f\"?query={random.randint(1, 100)}\"\n",
    "            rows.append(manipulated_row)\n",
    "\n",
    "            if len(synthetic_data) + len(rows) >= target_size:\n",
    "                break\n",
    "\n",
    "    # Performans için tüm satırları birleştir\n",
    "    synthetic_data = pd.concat([synthetic_data, pd.DataFrame(rows)], ignore_index=True)\n",
    "\n",
    "    print(f\"Sentetik veri üretildi: {len(synthetic_data)} kayıt.\")\n",
    "    return synthetic_data\n",
    "    "
   ]
  },
  {
   "cell_type": "code",
   "execution_count": 101,
   "metadata": {
    "id": "fWaocF_EFozn"
   },
   "outputs": [],
   "source": [
    "\n",
    "from sklearn.feature_extraction.text import TfidfVectorizer\n",
    "from imblearn.over_sampling import SMOTE\n",
    "\n",
    "# Sınıf dengesini sağlama fonksiyonu\n",
    "def balance_classes_with_smote(df):\n",
    "    if 'url' not in df.columns or 'label' not in df.columns:\n",
    "        raise ValueError(\"DataFrame'de 'url' veya 'label' sütunu eksik!\")\n",
    "\n",
    "    # TF-IDF ile sayısallaştırma\n",
    "    vectorizer = TfidfVectorizer(max_features=1000)\n",
    "    X_numeric = vectorizer.fit_transform(df['url']).toarray()\n",
    "    y = df['label']\n",
    "\n",
    "    # SMOTE ile dengeleme\n",
    "    smote = SMOTE(random_state=42)\n",
    "    X_balanced, y_balanced = smote.fit_resample(X_numeric, y)\n",
    "\n",
    "    print(f\"Sınıf dengesi sağlandı: {len(X_balanced)} kayıt.\")\n",
    "    return X_balanced, y_balanced\n",
    "    "
   ]
  },
  {
   "cell_type": "code",
   "execution_count": 102,
   "metadata": {
    "colab": {
     "base_uri": "https://localhost:8080/"
    },
    "id": "x3AhENPFFrIl",
    "outputId": "92287a28-2fd1-4649-d539-60119f086a04"
   },
   "outputs": [
    {
     "name": "stdout",
     "output_type": "stream",
     "text": [
      "                ip                 timestamp method  \\\n",
      "0  217.131.103.132 2024-12-31 04:15:21+03:00    GET   \n",
      "1  217.131.103.132 2024-12-31 04:15:21+03:00    GET   \n",
      "2  217.131.103.132 2024-12-31 04:15:21+03:00    GET   \n",
      "3  217.131.103.132 2024-12-31 04:15:21+03:00    GET   \n",
      "4  217.131.103.132 2024-12-31 04:15:21+03:00    GET   \n",
      "\n",
      "                                 url  protocol status  size  \n",
      "0                       /favicon.ico  HTTP/1.1    404  1251  \n",
      "1  /apple-touch-icon-precomposed.png  HTTP/1.1    404  1251  \n",
      "2              /apple-touch-icon.png  HTTP/1.1    404  1251  \n",
      "3        /cgi-sys/defaultwebpage.cgi  HTTP/1.1    200  1929  \n",
      "4  /img-sys/server_misconfigured.png  HTTP/1.1    304     0  \n"
     ]
    }
   ],
   "source": [
    "\n",
    "import re\n",
    "\n",
    "# Log dosyasını yükleme ve ayrıştırma\n",
    "def parse_log(log):\n",
    "    log_pattern = r'(?P<ip>\\d+\\.\\d+\\.\\d+\\.\\d+) - - \\[(?P<timestamp>.*?)\\] \"(?P<method>.*?) (?P<url>.*?) (?P<protocol>.*?)\" (?P<status>\\d+) (?P<size>\\d+|-)'\n",
    "    match = re.match(log_pattern, log)\n",
    "    return match.groupdict() if match else None\n",
    "\n",
    "# Log dosyasını liste olarak yükleme\n",
    "logs = []  # Log dosyanız burada listelenmeli\n",
    "\n",
    "# Logları DataFrame'e dönüştürme\n",
    "parsed_logs = [parse_log(log) for log in logs if parse_log(log)]\n",
    "logs_df = pd.DataFrame(parsed_logs)\n",
    "\n",
    "# Etiketleri ekleme\n",
    "logs_df['label'] = logs_df['status'].apply(lambda x: 1 if x.startswith('4') or x.startswith('5') else 0)\n",
    "    "
   ]
  },
  {
   "cell_type": "code",
   "execution_count": 103,
   "metadata": {
    "id": "ydXIcbzrF3Gu"
   },
   "outputs": [],
   "source": [
    "\n",
    "import random\n",
    "\n",
    "# Sentetik veri üretim fonksiyonu\n",
    "def generate_synthetic_data(df, target_size=10000):\n",
    "    # Zaman damgasını datetime formatına dönüştürme\n",
    "    if 'timestamp' in df.columns:\n",
    "        df['timestamp'] = pd.to_datetime(df['timestamp'], errors='coerce')\n",
    "        df = df.dropna(subset=['timestamp'])\n",
    "\n",
    "    synthetic_data = df.copy()\n",
    "    rows = []\n",
    "\n",
    "    # Sentetik veri üretimi\n",
    "    while len(synthetic_data) + len(rows) < target_size:\n",
    "        for _, row in df.iterrows():\n",
    "            manipulated_row = row.copy()\n",
    "            manipulated_row['ip'] = f\"{random.randint(1, 255)}.{random.randint(1, 255)}.{random.randint(1, 255)}.{random.randint(1, 255)}\"\n",
    "            manipulated_row['timestamp'] = manipulated_row['timestamp'] + pd.Timedelta(seconds=random.randint(1, 3600))\n",
    "            manipulated_row['method'] = random.choice([\"GET\", \"POST\", \"HEAD\", \"OPTIONS\", \"DELETE\"])\n",
    "            manipulated_row['status'] = random.choice([\"200\", \"404\", \"500\", \"403\", \"302\"])\n",
    "            manipulated_row['url'] = manipulated_row['url'] + f\"?query={random.randint(1, 100)}\"\n",
    "            rows.append(manipulated_row)\n",
    "\n",
    "            if len(synthetic_data) + len(rows) >= target_size:\n",
    "                break\n",
    "\n",
    "    # Performans için tüm satırları birleştir\n",
    "    synthetic_data = pd.concat([synthetic_data, pd.DataFrame(rows)], ignore_index=True)\n",
    "\n",
    "    print(f\"Sentetik veri üretildi: {len(synthetic_data)} kayıt.\")\n",
    "    return synthetic_data\n",
    "    "
   ]
  },
  {
   "cell_type": "code",
   "execution_count": 105,
   "metadata": {
    "colab": {
     "base_uri": "https://localhost:8080/"
    },
    "id": "eylfYPQwGUkZ",
    "outputId": "3e26ee00-48d5-4556-c3cb-2d7f63cdc6b8"
   },
   "outputs": [
    {
     "name": "stdout",
     "output_type": "stream",
     "text": [
      "DataFrame sütunları: Index(['ip', 'timestamp', 'method', 'url', 'protocol', 'status', 'size'], dtype='object')\n",
      "                ip                 timestamp method  \\\n",
      "0  217.131.103.132 2024-12-31 04:15:21+03:00    GET   \n",
      "1  217.131.103.132 2024-12-31 04:15:21+03:00    GET   \n",
      "2  217.131.103.132 2024-12-31 04:15:21+03:00    GET   \n",
      "3  217.131.103.132 2024-12-31 04:15:21+03:00    GET   \n",
      "4  217.131.103.132 2024-12-31 04:15:21+03:00    GET   \n",
      "\n",
      "                                 url  protocol status  size  \n",
      "0                       /favicon.ico  HTTP/1.1    404  1251  \n",
      "1  /apple-touch-icon-precomposed.png  HTTP/1.1    404  1251  \n",
      "2              /apple-touch-icon.png  HTTP/1.1    404  1251  \n",
      "3        /cgi-sys/defaultwebpage.cgi  HTTP/1.1    200  1929  \n",
      "4  /img-sys/server_misconfigured.png  HTTP/1.1    304     0  \n"
     ]
    }
   ],
   "source": [
    "# DataFrame'in sütunlarını kontrol etme\n",
    "print(\"DataFrame sütunları:\", logs_df.columns)\n",
    "\n",
    "# İlk birkaç satırı kontrol etme\n",
    "print(logs_df.head())"
   ]
  },
  {
   "cell_type": "code",
   "execution_count": 107,
   "metadata": {
    "colab": {
     "base_uri": "https://localhost:8080/"
    },
    "id": "8Uw0_9inHAu6",
    "outputId": "d7096144-5a58-4375-809c-02a60822383c"
   },
   "outputs": [
    {
     "name": "stdout",
     "output_type": "stream",
     "text": [
      "                ip                   timestamp method  \\\n",
      "0  217.131.103.132  31/Dec/2024:04:15:21 +0300    GET   \n",
      "1  217.131.103.132  31/Dec/2024:04:15:21 +0300    GET   \n",
      "2  217.131.103.132  31/Dec/2024:04:15:21 +0300    GET   \n",
      "3  217.131.103.132  31/Dec/2024:04:15:21 +0300    GET   \n",
      "4  217.131.103.132  31/Dec/2024:04:15:21 +0300    GET   \n",
      "\n",
      "                                 url  protocol status  size  \n",
      "0                       /favicon.ico  HTTP/1.1    404  1251  \n",
      "1  /apple-touch-icon-precomposed.png  HTTP/1.1    404  1251  \n",
      "2              /apple-touch-icon.png  HTTP/1.1    404  1251  \n",
      "3        /cgi-sys/defaultwebpage.cgi  HTTP/1.1    200  1929  \n",
      "4  /img-sys/server_misconfigured.png  HTTP/1.1    304     0  \n"
     ]
    }
   ],
   "source": [
    "\n",
    "import re\n",
    "\n",
    "# Log dosyasını yükleme ve ayrıştırma\n",
    "def parse_log(log):\n",
    "    log_pattern = r'(?P<ip>\\d+\\.\\d+\\.\\d+\\.\\d+) - - \\[(?P<timestamp>.*?)\\] \"(?P<method>.*?) (?P<url>.*?) (?P<protocol>.*?)\" (?P<status>\\d+) (?P<size>\\d+|-)'\n",
    "    match = re.match(log_pattern, log)\n",
    "    return match.groupdict() if match else None\n",
    "\n",
    "# Log dosyasını liste olarak yükleme\n",
    "logs = []  # Log dosyanız burada listelenmeli\n",
    "\n",
    "# Logları DataFrame'e dönüştürme\n",
    "parsed_logs = [parse_log(log) for log in logs if parse_log(log)]\n",
    "logs_df = pd.DataFrame(parsed_logs)\n",
    "\n",
    "# Etiketleri ekleme\n",
    "logs_df['label'] = logs_df['status'].apply(lambda x: 1 if x.startswith('4') or x.startswith('5') else 0)\n",
    "    "
   ]
  },
  {
   "cell_type": "code",
   "execution_count": 108,
   "metadata": {
    "colab": {
     "base_uri": "https://localhost:8080/"
    },
    "id": "3r00mp5_HN31",
    "outputId": "4d0527dd-5421-4433-c182-c1fb5f788af0"
   },
   "outputs": [
    {
     "name": "stdout",
     "output_type": "stream",
     "text": [
      "Etiket dağılımı:\n",
      "label\n",
      "0    6\n",
      "1    4\n",
      "Name: count, dtype: int64\n"
     ]
    }
   ],
   "source": [
    "# HTTP durum kodlarına göre etiketleme\n",
    "logs_df['label'] = logs_df['status'].apply(lambda x: 1 if x.startswith('4') or x.startswith('5') else 0)\n",
    "\n",
    "# Etiketlerin dağılımını kontrol etme\n",
    "print(\"Etiket dağılımı:\")\n",
    "print(logs_df['label'].value_counts())"
   ]
  },
  {
   "cell_type": "code",
   "execution_count": 110,
   "metadata": {
    "colab": {
     "base_uri": "https://localhost:8080/"
    },
    "id": "2Rtrx3ZpHQLu",
    "outputId": "21baf07c-2273-4c42-ebec-966ed85b0fd0"
   },
   "outputs": [
    {
     "name": "stdout",
     "output_type": "stream",
     "text": [
      "0   2024-12-31 04:15:21+03:00\n",
      "1   2024-12-31 04:15:21+03:00\n",
      "2   2024-12-31 04:15:21+03:00\n",
      "3   2024-12-31 04:15:21+03:00\n",
      "4   2024-12-31 04:15:21+03:00\n",
      "Name: timestamp, dtype: datetime64[ns, UTC+03:00]\n"
     ]
    }
   ],
   "source": [
    "# Zaman damgasını datetime formatına dönüştürme\n",
    "logs_df['timestamp'] = pd.to_datetime(logs_df['timestamp'], format='%d/%b/%Y:%H:%M:%S %z', errors='coerce')\n",
    "\n",
    "# Hatalı dönüştürmeleri temizleme\n",
    "logs_df = logs_df.dropna(subset=['timestamp'])\n",
    "\n",
    "# İlk birkaç zaman damgasını kontrol etme\n",
    "print(logs_df['timestamp'].head())"
   ]
  },
  {
   "cell_type": "code",
   "execution_count": 111,
   "metadata": {
    "id": "7GorpAJZHaxy"
   },
   "outputs": [],
   "source": [
    "\n",
    "import random\n",
    "\n",
    "# Sentetik veri üretim fonksiyonu\n",
    "def generate_synthetic_data(df, target_size=10000):\n",
    "    # Zaman damgasını datetime formatına dönüştürme\n",
    "    if 'timestamp' in df.columns:\n",
    "        df['timestamp'] = pd.to_datetime(df['timestamp'], errors='coerce')\n",
    "        df = df.dropna(subset=['timestamp'])\n",
    "\n",
    "    synthetic_data = df.copy()\n",
    "    rows = []\n",
    "\n",
    "    # Sentetik veri üretimi\n",
    "    while len(synthetic_data) + len(rows) < target_size:\n",
    "        for _, row in df.iterrows():\n",
    "            manipulated_row = row.copy()\n",
    "            manipulated_row['ip'] = f\"{random.randint(1, 255)}.{random.randint(1, 255)}.{random.randint(1, 255)}.{random.randint(1, 255)}\"\n",
    "            manipulated_row['timestamp'] = manipulated_row['timestamp'] + pd.Timedelta(seconds=random.randint(1, 3600))\n",
    "            manipulated_row['method'] = random.choice([\"GET\", \"POST\", \"HEAD\", \"OPTIONS\", \"DELETE\"])\n",
    "            manipulated_row['status'] = random.choice([\"200\", \"404\", \"500\", \"403\", \"302\"])\n",
    "            manipulated_row['url'] = manipulated_row['url'] + f\"?query={random.randint(1, 100)}\"\n",
    "            rows.append(manipulated_row)\n",
    "\n",
    "            if len(synthetic_data) + len(rows) >= target_size:\n",
    "                break\n",
    "\n",
    "    # Performans için tüm satırları birleştir\n",
    "    synthetic_data = pd.concat([synthetic_data, pd.DataFrame(rows)], ignore_index=True)\n",
    "\n",
    "    print(f\"Sentetik veri üretildi: {len(synthetic_data)} kayıt.\")\n",
    "    return synthetic_data\n",
    "    "
   ]
  },
  {
   "cell_type": "code",
   "execution_count": 112,
   "metadata": {
    "colab": {
     "base_uri": "https://localhost:8080/"
    },
    "id": "a7ilumExHcxc",
    "outputId": "64d40784-3720-4978-e59f-e2c34099368a"
   },
   "outputs": [
    {
     "name": "stdout",
     "output_type": "stream",
     "text": [
      "Sentetik veri üretildi: 10000 kayıt.\n",
      "Sınıf dengesi sağlandı: 12000 kayıt.\n",
      "Sonuç: Dengeli veri boyutu: 12000\n"
     ]
    },
    {
     "name": "stderr",
     "output_type": "stream",
     "text": [
      "/usr/local/lib/python3.10/dist-packages/sklearn/base.py:474: FutureWarning: `BaseEstimator._validate_data` is deprecated in 1.6 and will be removed in 1.7. Use `sklearn.utils.validation.validate_data` instead. This function becomes public and is part of the scikit-learn developer API.\n",
      "  warnings.warn(\n",
      "/usr/local/lib/python3.10/dist-packages/sklearn/utils/_tags.py:354: FutureWarning: The SMOTE or classes from which it inherits use `_get_tags` and `_more_tags`. Please define the `__sklearn_tags__` method, or inherit from `sklearn.base.BaseEstimator` and/or other appropriate mixins such as `sklearn.base.TransformerMixin`, `sklearn.base.ClassifierMixin`, `sklearn.base.RegressorMixin`, and `sklearn.base.OutlierMixin`. From scikit-learn 1.7, not defining `__sklearn_tags__` will raise an error.\n",
      "  warnings.warn(\n"
     ]
    }
   ],
   "source": [
    "\n",
    "# Tüm süreci birleştirme\n",
    "def process_data(df, target_size=10000):\n",
    "    # Sentetik veri üretimi\n",
    "    synthetic_data = generate_synthetic_data(df, target_size)\n",
    "\n",
    "    # Sınıf dengesini sağlama\n",
    "    X_balanced, y_balanced = balance_classes_with_smote(synthetic_data)\n",
    "\n",
    "    return X_balanced, y_balanced\n",
    "\n",
    "# Kullanım\n",
    "X_balanced, y_balanced = process_data(logs_df, target_size=10000)\n",
    "print(f\"Sonuç: Dengeli veri boyutu: {len(X_balanced)}\")\n",
    "    "
   ]
  },
  {
   "cell_type": "code",
   "execution_count": 113,
   "metadata": {
    "colab": {
     "base_uri": "https://localhost:8080/"
    },
    "id": "eb2MOYECAmvp",
    "outputId": "4c1d3001-ff64-43c1-ec0d-5d953b7d36c7"
   },
   "outputs": [
    {
     "name": "stdout",
     "output_type": "stream",
     "text": [
      "Sayısal özellik matrisi boyutu: (1000, 1000)\n"
     ]
    }
   ],
   "source": [
    "from sklearn.feature_extraction.text import TfidfVectorizer\n",
    "\n",
    "# TF-IDF kullanarak log verilerini sayısal forma dönüştürme\n",
    "vectorizer = TfidfVectorizer(max_features=1000)  # Maksimum 1000 özellik çıkar\n",
    "X_numeric = vectorizer.fit_transform(augmented_logs).toarray()\n",
    "\n",
    "print(f\"Sayısal özellik matrisi boyutu: {X_numeric.shape}\")"
   ]
  },
  {
   "cell_type": "code",
   "execution_count": 114,
   "metadata": {
    "colab": {
     "base_uri": "https://localhost:8080/"
    },
    "id": "eO2N7PRvBBl-",
    "outputId": "6d85cd8c-8ee5-4409-aed5-477dfaedb864"
   },
   "outputs": [
    {
     "name": "stdout",
     "output_type": "stream",
     "text": [
      "X_numeric boyutu: (1000, 1000)\n",
      "Labels boyutu: 2\n"
     ]
    }
   ],
   "source": [
    "print(f\"X_numeric boyutu: {X_numeric.shape}\")\n",
    "print(f\"Labels boyutu: {len(labels)}\")"
   ]
  },
  {
   "cell_type": "code",
   "execution_count": 115,
   "metadata": {
    "colab": {
     "base_uri": "https://localhost:8080/"
    },
    "id": "Og_kF71OBQ15",
    "outputId": "b1f98f9e-a058-4cdc-995b-a4fa83c228a4"
   },
   "outputs": [
    {
     "name": "stdout",
     "output_type": "stream",
     "text": [
      "Yeni labels boyutu: 1000\n"
     ]
    }
   ],
   "source": [
    "# Etiketleri yeniden oluşturma (örneğin: \"404\" -> Anomali (1), diğerleri -> Normal (0))\n",
    "labels = [1 if \"404\" in log else 0 for log in augmented_logs]\n",
    "\n",
    "print(f\"Yeni labels boyutu: {len(labels)}\")"
   ]
  },
  {
   "cell_type": "code",
   "execution_count": 116,
   "metadata": {
    "colab": {
     "base_uri": "https://localhost:8080/"
    },
    "id": "dAepMsdNBTI4",
    "outputId": "b342b7cd-23db-44f9-f345-d0428a634ef8"
   },
   "outputs": [
    {
     "name": "stdout",
     "output_type": "stream",
     "text": [
      "Dengeli veri boyutu: (1348, 1000)\n",
      "Dengeli etiket boyutu: 1348\n"
     ]
    },
    {
     "name": "stderr",
     "output_type": "stream",
     "text": [
      "/usr/local/lib/python3.10/dist-packages/sklearn/base.py:474: FutureWarning: `BaseEstimator._validate_data` is deprecated in 1.6 and will be removed in 1.7. Use `sklearn.utils.validation.validate_data` instead. This function becomes public and is part of the scikit-learn developer API.\n",
      "  warnings.warn(\n",
      "/usr/local/lib/python3.10/dist-packages/sklearn/utils/_tags.py:354: FutureWarning: The SMOTE or classes from which it inherits use `_get_tags` and `_more_tags`. Please define the `__sklearn_tags__` method, or inherit from `sklearn.base.BaseEstimator` and/or other appropriate mixins such as `sklearn.base.TransformerMixin`, `sklearn.base.ClassifierMixin`, `sklearn.base.RegressorMixin`, and `sklearn.base.OutlierMixin`. From scikit-learn 1.7, not defining `__sklearn_tags__` will raise an error.\n",
      "  warnings.warn(\n"
     ]
    }
   ],
   "source": [
    "from imblearn.over_sampling import SMOTE\n",
    "\n",
    "# SMOTE uygulama\n",
    "smote = SMOTE(random_state=42)\n",
    "X_balanced, y_balanced = smote.fit_resample(X_numeric, labels)\n",
    "\n",
    "print(f\"Dengeli veri boyutu: {X_balanced.shape}\")\n",
    "print(f\"Dengeli etiket boyutu: {len(y_balanced)}\")"
   ]
  },
  {
   "cell_type": "code",
   "execution_count": 117,
   "metadata": {
    "colab": {
     "base_uri": "https://localhost:8080/"
    },
    "id": "MbfWkBL8BWw5",
    "outputId": "6929942d-f81c-4b14-8d5f-26f269871685"
   },
   "outputs": [
    {
     "name": "stdout",
     "output_type": "stream",
     "text": [
      "Sınıf dağılımı (öncesi): Counter({0: 674, 1: 326})\n",
      "Sınıf dağılımı (sonrası): Counter({1: 674, 0: 674})\n"
     ]
    }
   ],
   "source": [
    "from collections import Counter\n",
    "\n",
    "# Sınıf dağılımını yazdırma\n",
    "print(\"Sınıf dağılımı (öncesi):\", Counter(labels))\n",
    "print(\"Sınıf dağılımı (sonrası):\", Counter(y_balanced))"
   ]
  },
  {
   "cell_type": "markdown",
   "metadata": {
    "id": "pQJlk4hf7GC7"
   },
   "source": [
    "**Adım 3: Yeni Veriyi Dosyaya Kaydetme**"
   ]
  },
  {
   "cell_type": "code",
   "execution_count": 118,
   "metadata": {
    "colab": {
     "base_uri": "https://localhost:8080/"
    },
    "id": "jO2VXMfq65xy",
    "outputId": "61134624-ab97-4ea2-92ce-979882534999"
   },
   "outputs": [
    {
     "name": "stdout",
     "output_type": "stream",
     "text": [
      "Çoğaltılmış veri kaydedildi: /content/drive/MyDrive/Colab Notebooks/Datasets/augmented_logs.txt\n"
     ]
    }
   ],
   "source": [
    "# Çoğaltılmış veriyi yeni bir dosyaya kaydetme\n",
    "augmented_file_path = '/content/drive/MyDrive/Colab Notebooks/Datasets/augmented_logs.txt'\n",
    "with open(augmented_file_path, 'w') as file:\n",
    "    file.write(\"\\n\".join(augmented_logs))\n",
    "\n",
    "print(f\"Çoğaltılmış veri kaydedildi: {augmented_file_path}\")"
   ]
  },
  {
   "cell_type": "markdown",
   "metadata": {
    "id": "4NcpCGoT7lxn"
   },
   "source": [
    "**Adım 4: Yeni Veriyi Kontrol Edin**"
   ]
  },
  {
   "cell_type": "code",
   "execution_count": 119,
   "metadata": {
    "colab": {
     "base_uri": "https://localhost:8080/"
    },
    "id": "-yInQU_97JKr",
    "outputId": "eb50493a-5fab-46e8-cad3-7cdeecb1fcf4"
   },
   "outputs": [
    {
     "name": "stdout",
     "output_type": "stream",
     "text": [
      "Yeni veri dosyasındaki toplam log sayısı: 1000\n",
      "Örnek log satırı: 217.131.103.132 - - [31/Dec/2024:04:15:21 +0300] \"HEAD /file_74.html HTTP/1.1\" 404 1251 \"http://batukar.com/\" \"Mozilla/5.0 (Macintosh; Intel Mac OS X 10_15_7) AppleWebKit/605.1.15 (KHTML, like Gecko) Version/18.2 Safari/605.1.15\"?utm_source=ad_22&utm_campaign=campaign_13#j8968\n"
     ]
    }
   ],
   "source": [
    "# Çoğaltılmış dosyayı okuma\n",
    "with open(augmented_file_path, 'r') as file:\n",
    "    new_logs = [line.strip() for line in file.readlines()]\n",
    "\n",
    "print(f\"Yeni veri dosyasındaki toplam log sayısı: {len(new_logs)}\")\n",
    "print(\"Örnek log satırı:\", new_logs[0])"
   ]
  },
  {
   "cell_type": "markdown",
   "metadata": {
    "id": "KCNBNX2m7u0n"
   },
   "source": [
    "**Adım 5: Artırılmış Veri ile Model Eğitimi**\n",
    "\n",
    "Adım 5.1: Yeni Veriyi Eğitim ve Test Setlerine Bölme"
   ]
  },
  {
   "cell_type": "code",
   "execution_count": 120,
   "metadata": {
    "colab": {
     "base_uri": "https://localhost:8080/"
    },
    "id": "r-OnK8vQ7pE_",
    "outputId": "dd2060ae-6d69-43ca-c89c-09a471ce4172"
   },
   "outputs": [
    {
     "name": "stdout",
     "output_type": "stream",
     "text": [
      "Eğitim seti boyutu: 800\n",
      "Test seti boyutu: 200\n"
     ]
    }
   ],
   "source": [
    "from sklearn.model_selection import train_test_split\n",
    "\n",
    "# Yeni veriyi okuma\n",
    "with open(augmented_file_path, 'r') as file:\n",
    "    augmented_logs = [line.strip() for line in file.readlines()]\n",
    "\n",
    "# Sınıfları belirleme (örnek: 404 kodlarını \"Anomali\" kabul ediyoruz)\n",
    "def label_log(log):\n",
    "    if \"404\" in log:\n",
    "        return 1  # Anomali\n",
    "    else:\n",
    "        return 0  # Normal\n",
    "\n",
    "# Logları ve etiketleri hazırlama\n",
    "X = augmented_logs\n",
    "y = [label_log(log) for log in augmented_logs]\n",
    "\n",
    "# Eğitim ve test setlerine ayırma\n",
    "X_train, X_test, y_train, y_test = train_test_split(X, y, test_size=0.2, random_state=42)\n",
    "\n",
    "print(f\"Eğitim seti boyutu: {len(X_train)}\")\n",
    "print(f\"Test seti boyutu: {len(X_test)}\")"
   ]
  },
  {
   "cell_type": "markdown",
   "metadata": {
    "id": "Kb-yJByi75rp"
   },
   "source": [
    "Adım 5.2: Veriyi Tokenize Etme"
   ]
  },
  {
   "cell_type": "code",
   "execution_count": 121,
   "metadata": {
    "id": "GKCDXQwV728-"
   },
   "outputs": [],
   "source": [
    "from transformers import BertTokenizer\n",
    "\n",
    "# BERT Tokenizer yükleme\n",
    "tokenizer = BertTokenizer.from_pretrained('bert-base-uncased')\n",
    "\n",
    "# Eğitim ve test setlerini tokenize etme\n",
    "train_tokens = [tokenizer.encode_plus(\n",
    "    log,\n",
    "    add_special_tokens=True,\n",
    "    max_length=128,\n",
    "    padding='max_length',\n",
    "    truncation=True,\n",
    "    return_attention_mask=True,\n",
    "    return_tensors='pt'\n",
    ") for log in X_train]\n",
    "\n",
    "test_tokens = [tokenizer.encode_plus(\n",
    "    log,\n",
    "    add_special_tokens=True,\n",
    "    max_length=128,\n",
    "    padding='max_length',\n",
    "    truncation=True,\n",
    "    return_attention_mask=True,\n",
    "    return_tensors='pt'\n",
    ") for log in X_test]"
   ]
  },
  {
   "cell_type": "markdown",
   "metadata": {
    "id": "iaK4Z6HT79Zo"
   },
   "source": [
    "Adım 5.3: Tensor Formatına Dönüştürme"
   ]
  },
  {
   "cell_type": "code",
   "execution_count": 122,
   "metadata": {
    "id": "QhJejLYb77Uf"
   },
   "outputs": [],
   "source": [
    "import torch\n",
    "\n",
    "# Eğitim verileri\n",
    "train_input_ids = torch.cat([x['input_ids'] for x in train_tokens], dim=0)\n",
    "train_attention_masks = torch.cat([x['attention_mask'] for x in train_tokens], dim=0)\n",
    "train_labels = torch.tensor(y_train)\n",
    "\n",
    "# Test verileri\n",
    "test_input_ids = torch.cat([x['input_ids'] for x in test_tokens], dim=0)\n",
    "test_attention_masks = torch.cat([x['attention_mask'] for x in test_tokens], dim=0)\n",
    "test_labels = torch.tensor(y_test)"
   ]
  },
  {
   "cell_type": "markdown",
   "metadata": {
    "id": "i025WcwH8Btt"
   },
   "source": [
    "Adım 5.4: Model Eğitimi"
   ]
  },
  {
   "cell_type": "code",
   "execution_count": 123,
   "metadata": {
    "colab": {
     "base_uri": "https://localhost:8080/"
    },
    "id": "MMcn02GA7_GJ",
    "outputId": "ca9e4635-1a28-4cfb-9e9d-6407fcbcce7c"
   },
   "outputs": [
    {
     "name": "stderr",
     "output_type": "stream",
     "text": [
      "Some weights of BertForSequenceClassification were not initialized from the model checkpoint at bert-base-uncased and are newly initialized: ['classifier.bias', 'classifier.weight']\n",
      "You should probably TRAIN this model on a down-stream task to be able to use it for predictions and inference.\n",
      "/usr/local/lib/python3.10/dist-packages/transformers/optimization.py:591: FutureWarning: This implementation of AdamW is deprecated and will be removed in a future version. Use the PyTorch implementation torch.optim.AdamW instead, or set `no_deprecation_warning=True` to disable this warning\n",
      "  warnings.warn(\n"
     ]
    },
    {
     "name": "stdout",
     "output_type": "stream",
     "text": [
      "Epoch 1/4\n"
     ]
    },
    {
     "name": "stderr",
     "output_type": "stream",
     "text": [
      "Training: 100%|██████████| 50/50 [00:04<00:00, 11.32it/s, Loss=0.124]\n"
     ]
    },
    {
     "name": "stdout",
     "output_type": "stream",
     "text": [
      "Ortalama Eğitim Kaybı: 0.3992\n",
      "Epoch 2/4\n"
     ]
    },
    {
     "name": "stderr",
     "output_type": "stream",
     "text": [
      "Training: 100%|██████████| 50/50 [00:04<00:00, 11.40it/s, Loss=0.0126]\n"
     ]
    },
    {
     "name": "stdout",
     "output_type": "stream",
     "text": [
      "Ortalama Eğitim Kaybı: 0.1001\n",
      "Epoch 3/4\n"
     ]
    },
    {
     "name": "stderr",
     "output_type": "stream",
     "text": [
      "Training: 100%|██████████| 50/50 [00:04<00:00, 11.43it/s, Loss=0.00943]\n"
     ]
    },
    {
     "name": "stdout",
     "output_type": "stream",
     "text": [
      "Ortalama Eğitim Kaybı: 0.0175\n",
      "Epoch 4/4\n"
     ]
    },
    {
     "name": "stderr",
     "output_type": "stream",
     "text": [
      "Training: 100%|██████████| 50/50 [00:04<00:00, 11.44it/s, Loss=0.00568]"
     ]
    },
    {
     "name": "stdout",
     "output_type": "stream",
     "text": [
      "Ortalama Eğitim Kaybı: 0.0138\n"
     ]
    },
    {
     "name": "stderr",
     "output_type": "stream",
     "text": [
      "\n"
     ]
    }
   ],
   "source": [
    "from torch.utils.data import DataLoader, TensorDataset\n",
    "from transformers import BertForSequenceClassification, AdamW, get_scheduler\n",
    "from tqdm import tqdm\n",
    "\n",
    "# DataLoader oluşturma\n",
    "train_dataset = TensorDataset(train_input_ids, train_attention_masks, train_labels)\n",
    "test_dataset = TensorDataset(test_input_ids, test_attention_masks, test_labels)\n",
    "\n",
    "train_dataloader = DataLoader(train_dataset, batch_size=16, shuffle=True)\n",
    "test_dataloader = DataLoader(test_dataset, batch_size=16)\n",
    "\n",
    "# Modeli yükleme\n",
    "model = BertForSequenceClassification.from_pretrained('bert-base-uncased', num_labels=2)\n",
    "optimizer = AdamW(model.parameters(), lr=2e-5)\n",
    "\n",
    "# Öğrenme oranı planlayıcı\n",
    "epochs = 4\n",
    "scheduler = get_scheduler(\"linear\", optimizer=optimizer, num_warmup_steps=0, num_training_steps=len(train_dataloader) * epochs)\n",
    "\n",
    "# Modeli GPU'ya taşıma\n",
    "device = torch.device(\"cuda\" if torch.cuda.is_available() else \"cpu\")\n",
    "model.to(device)\n",
    "\n",
    "# Eğitim döngüsü\n",
    "for epoch in range(epochs):\n",
    "    print(f'Epoch {epoch + 1}/{epochs}')\n",
    "    model.train()\n",
    "    total_loss = 0\n",
    "\n",
    "    progress_bar = tqdm(train_dataloader, desc=\"Training\")\n",
    "    for batch in progress_bar:\n",
    "        b_input_ids = batch[0].to(device)\n",
    "        b_attention_mask = batch[1].to(device)\n",
    "        b_labels = batch[2].to(device)\n",
    "\n",
    "        model.zero_grad()\n",
    "        outputs = model(input_ids=b_input_ids, attention_mask=b_attention_mask, labels=b_labels)\n",
    "        loss = outputs.loss\n",
    "        total_loss += loss.item()\n",
    "\n",
    "        loss.backward()\n",
    "        optimizer.step()\n",
    "        scheduler.step()\n",
    "\n",
    "        progress_bar.set_postfix({\"Loss\": loss.item()})\n",
    "\n",
    "    print(f\"Ortalama Eğitim Kaybı: {total_loss / len(train_dataloader):.4f}\")"
   ]
  },
  {
   "cell_type": "markdown",
   "metadata": {
    "id": "p34M_10J8HEB"
   },
   "source": [
    "Adım 5.5: Performans Değerlendirmesi"
   ]
  },
  {
   "cell_type": "code",
   "execution_count": 124,
   "metadata": {
    "colab": {
     "base_uri": "https://localhost:8080/"
    },
    "id": "x0K5aKiX8DMK",
    "outputId": "860c9e7d-f744-45b9-8aff-4441b3041618"
   },
   "outputs": [
    {
     "name": "stdout",
     "output_type": "stream",
     "text": [
      "Model Doğruluğu: 1.0000\n"
     ]
    }
   ],
   "source": [
    "# Test setini değerlendirme\n",
    "model.eval()\n",
    "total_correct = 0\n",
    "total_samples = 0\n",
    "\n",
    "with torch.no_grad():\n",
    "    for batch in test_dataloader:\n",
    "        b_input_ids = batch[0].to(device)\n",
    "        b_attention_mask = batch[1].to(device)\n",
    "        b_labels = batch[2].to(device)\n",
    "\n",
    "        outputs = model(input_ids=b_input_ids, attention_mask=b_attention_mask)\n",
    "        predictions = torch.argmax(outputs.logits, dim=1)\n",
    "\n",
    "        total_correct += (predictions == b_labels).sum().item()\n",
    "        total_samples += b_labels.size(0)\n",
    "\n",
    "accuracy = total_correct / total_samples\n",
    "print(f\"Model Doğruluğu: {accuracy:.4f}\")"
   ]
  },
  {
   "cell_type": "markdown",
   "metadata": {
    "id": "z_5Qp6l58PGN"
   },
   "source": [
    "**Adım 6: Model Performansının Detaylı Değerlendirilmesi**\n",
    "\n",
    "Adım 6.1: Karmaşıklık Matrisi ve Sınıflandırma Raporu"
   ]
  },
  {
   "cell_type": "code",
   "execution_count": 125,
   "metadata": {
    "colab": {
     "base_uri": "https://localhost:8080/"
    },
    "id": "gYWsDYOC8I_x",
    "outputId": "b86667fb-9106-4870-b89a-d0e2f54cea9e"
   },
   "outputs": [
    {
     "name": "stdout",
     "output_type": "stream",
     "text": [
      "Confusion Matrix:\n",
      " [[132   0]\n",
      " [  0  68]]\n",
      "Classification Report:\n",
      "               precision    recall  f1-score   support\n",
      "\n",
      "      Normal       1.00      1.00      1.00       132\n",
      "     Anomali       1.00      1.00      1.00        68\n",
      "\n",
      "    accuracy                           1.00       200\n",
      "   macro avg       1.00      1.00      1.00       200\n",
      "weighted avg       1.00      1.00      1.00       200\n",
      "\n"
     ]
    }
   ],
   "source": [
    "from sklearn.metrics import confusion_matrix, classification_report\n",
    "\n",
    "# Tahminler\n",
    "all_predictions = []\n",
    "all_labels = []\n",
    "\n",
    "model.eval()\n",
    "with torch.no_grad():\n",
    "    for batch in test_dataloader:\n",
    "        b_input_ids = batch[0].to(device)\n",
    "        b_attention_mask = batch[1].to(device)\n",
    "        b_labels = batch[2].to(device)\n",
    "\n",
    "        outputs = model(input_ids=b_input_ids, attention_mask=b_attention_mask)\n",
    "        predictions = torch.argmax(outputs.logits, dim=1)\n",
    "\n",
    "        all_predictions.extend(predictions.cpu().numpy())\n",
    "        all_labels.extend(b_labels.cpu().numpy())\n",
    "\n",
    "# Karmaşıklık matrisi\n",
    "cm = confusion_matrix(all_labels, all_predictions)\n",
    "print(\"Confusion Matrix:\\n\", cm)\n",
    "\n",
    "# Sınıflandırma raporu\n",
    "report = classification_report(all_labels, all_predictions, target_names=[\"Normal\", \"Anomali\"], zero_division=0)\n",
    "print(\"Classification Report:\\n\", report)"
   ]
  },
  {
   "cell_type": "markdown",
   "metadata": {
    "id": "MHjKh3fN8aDN"
   },
   "source": [
    "Adım 6.2: Karmaşıklık Matrisi Görselleştirme"
   ]
  },
  {
   "cell_type": "code",
   "execution_count": 126,
   "metadata": {
    "colab": {
     "base_uri": "https://localhost:8080/",
     "height": 564
    },
    "id": "SszRZ5xh8UCh",
    "outputId": "957cb032-ac8e-48b1-f665-b7a037c21708"
   },
   "outputs": [
    {
     "data": {
      "image/png": "[encoded data removed]",
      "text/plain": [
       "<Figure size 600x600 with 2 Axes>"
      ]
     },
     "metadata": {},
     "output_type": "display_data"
    }
   ],
   "source": [
    "import seaborn as sns\n",
    "import matplotlib.pyplot as plt\n",
    "\n",
    "# Karmaşıklık matrisini görselleştirme\n",
    "plt.figure(figsize=(6, 6))\n",
    "sns.heatmap(cm, annot=True, fmt=\"d\", cmap=\"Blues\", xticklabels=[\"Normal\", \"Anomali\"], yticklabels=[\"Normal\", \"Anomali\"])\n",
    "plt.xlabel(\"Tahmin Edilen\")\n",
    "plt.ylabel(\"Gerçek\")\n",
    "plt.title(\"Karmaşıklık Matrisi\")\n",
    "plt.show()"
   ]
  },
  {
   "cell_type": "markdown",
   "metadata": {
    "id": "K8eo-f5Y8eBr"
   },
   "source": [
    "Adım 6.3: Precision, Recall ve F1-Score Görselleştirme"
   ]
  },
  {
   "cell_type": "code",
   "execution_count": 127,
   "metadata": {
    "colab": {
     "base_uri": "https://localhost:8080/",
     "height": 452
    },
    "id": "Y5ZXr2Rw8ba5",
    "outputId": "3be6d1fc-5b67-4533-ec67-753c577fd4d5"
   },
   "outputs": [
    {
     "data": {
      "image/png": "[encoded data removed]",
      "text/plain": [
       "<Figure size 640x480 with 1 Axes>"
      ]
     },
     "metadata": {},
     "output_type": "display_data"
    }
   ],
   "source": [
    "from sklearn.metrics import precision_recall_fscore_support\n",
    "\n",
    "# Precision, Recall ve F1-Score hesaplama\n",
    "metrics = precision_recall_fscore_support(all_labels, all_predictions, average=None)\n",
    "precision, recall, f1_score = metrics[0], metrics[1], metrics[2]\n",
    "\n",
    "# Görselleştirme\n",
    "x = [\"Normal\", \"Anomali\"]\n",
    "plt.bar(x, precision, alpha=0.6, label=\"Precision\")\n",
    "plt.bar(x, recall, alpha=0.6, label=\"Recall\", bottom=precision)\n",
    "plt.bar(x, f1_score, alpha=0.6, label=\"F1-Score\", bottom=[p + r for p, r in zip(precision, recall)])\n",
    "\n",
    "plt.legend()\n",
    "plt.title(\"Precision, Recall ve F1-Score\")\n",
    "plt.ylabel(\"Skor\")\n",
    "plt.show()"
   ]
  },
  {
   "cell_type": "markdown",
   "metadata": {
    "id": "LfKIY6C18ii2"
   },
   "source": [
    "Adım 6.4: Tahmin Sonuçlarının Örnek Analizi"
   ]
  },
  {
   "cell_type": "code",
   "execution_count": 128,
   "metadata": {
    "colab": {
     "base_uri": "https://localhost:8080/"
    },
    "id": "L-EN4kw98fa3",
    "outputId": "1554f944-a8bf-48ba-b2e9-b7cf1601b9c5"
   },
   "outputs": [
    {
     "name": "stdout",
     "output_type": "stream",
     "text": [
      "Log: GET /favicon.ico HTTP/1.1 --> Tahmin: Normal\n",
      "Log: POST /login HTTP/1.1 --> Tahmin: Normal\n"
     ]
    }
   ],
   "source": [
    "# Örnek loglar üzerinde tahmin\n",
    "example_logs = [\"GET /favicon.ico HTTP/1.1\", \"POST /login HTTP/1.1\"]  # Örnek loglar\n",
    "example_tokens = [tokenizer.encode_plus(\n",
    "    log,\n",
    "    add_special_tokens=True,\n",
    "    max_length=128,\n",
    "    padding='max_length',\n",
    "    truncation=True,\n",
    "    return_tensors='pt'\n",
    ") for log in example_logs]\n",
    "\n",
    "# Tensor formatına dönüştürme\n",
    "example_input_ids = torch.cat([token['input_ids'] for token in example_tokens], dim=0).to(device)\n",
    "example_attention_masks = torch.cat([token['attention_mask'] for token in example_tokens], dim=0).to(device)\n",
    "\n",
    "# Tahmin yapma\n",
    "model.eval()\n",
    "with torch.no_grad():\n",
    "    example_outputs = model(input_ids=example_input_ids, attention_mask=example_attention_masks)\n",
    "    example_predictions = torch.argmax(example_outputs.logits, dim=1)\n",
    "\n",
    "# Tahmin sonuçlarını yazdırma\n",
    "for log, prediction in zip(example_logs, example_predictions):\n",
    "    print(f\"Log: {log} --> Tahmin: {'Anomali' if prediction.item() == 1 else 'Normal'}\")"
   ]
  },
  {
   "cell_type": "markdown",
   "metadata": {
    "id": "s9qAevGN8yUK"
   },
   "source": [
    "**Adım 7: Modelin Gerçek Hayatta Kullanımı**\n",
    "\n",
    "Adım 7.1: Gerçek Log Verileri ile Tahmin"
   ]
  },
  {
   "cell_type": "code",
   "execution_count": 129,
   "metadata": {
    "colab": {
     "base_uri": "https://localhost:8080/"
    },
    "id": "5VvALGJl8kNM",
    "outputId": "b2e80053-572b-468d-b8c3-84213e153e5c"
   },
   "outputs": [
    {
     "name": "stdout",
     "output_type": "stream",
     "text": [
      "Log: GET /home HTTP/1.1 --> Tahmin: Normal\n",
      "Log: POST /admin HTTP/1.1 --> Tahmin: Normal\n",
      "Log: GET /favicon.ico HTTP/1.1 --> Tahmin: Normal\n",
      "Log: GET /nonexistent-page HTTP/1.1 --> Tahmin: Normal\n",
      "Log: HEAD /contact HTTP/1.0 --> Tahmin: Normal\n"
     ]
    }
   ],
   "source": [
    "# Yeni log verileri\n",
    "real_logs = [\n",
    "    \"GET /home HTTP/1.1\",\n",
    "    \"POST /admin HTTP/1.1\",\n",
    "    \"GET /favicon.ico HTTP/1.1\",\n",
    "    \"GET /nonexistent-page HTTP/1.1\",  # Anomalik bir örnek\n",
    "    \"HEAD /contact HTTP/1.0\"\n",
    "]\n",
    "\n",
    "# Tokenize etme\n",
    "real_tokens = [tokenizer.encode_plus(\n",
    "    log,\n",
    "    add_special_tokens=True,\n",
    "    max_length=128,\n",
    "    padding='max_length',\n",
    "    truncation=True,\n",
    "    return_tensors='pt'\n",
    ") for log in real_logs]\n",
    "\n",
    "# Tensor formatına dönüştürme\n",
    "real_input_ids = torch.cat([token['input_ids'] for token in real_tokens], dim=0).to(device)\n",
    "real_attention_masks = torch.cat([token['attention_mask'] for token in real_tokens], dim=0).to(device)\n",
    "\n",
    "# Model tahminleri\n",
    "model.eval()\n",
    "with torch.no_grad():\n",
    "    real_outputs = model(input_ids=real_input_ids, attention_mask=real_attention_masks)\n",
    "    real_predictions = torch.argmax(real_outputs.logits, dim=1)\n",
    "\n",
    "# Sonuçları yazdırma\n",
    "for log, prediction in zip(real_logs, real_predictions):\n",
    "    print(f\"Log: {log} --> Tahmin: {'Anomali' if prediction.item() == 1 else 'Normal'}\")"
   ]
  },
  {
   "cell_type": "markdown",
   "metadata": {
    "id": "T_eRumOz853x"
   },
   "source": [
    "Adım 7.2: Tahmin Sonuçlarının Analizi"
   ]
  },
  {
   "cell_type": "markdown",
   "metadata": {
    "id": "tHXd7pa68-bV"
   },
   "source": [
    "Adım 7.3: Tahmin Dağılımının Görselleştirilmesi"
   ]
  },
  {
   "cell_type": "code",
   "execution_count": 130,
   "metadata": {
    "colab": {
     "base_uri": "https://localhost:8080/",
     "height": 521
    },
    "id": "nZZbhhws82To",
    "outputId": "cf766eb4-f654-4147-9c0f-d438ee41ffdd"
   },
   "outputs": [
    {
     "data": {
      "image/png": "[encoded data removed]",
      "text/plain": [
       "<Figure size 600x600 with 1 Axes>"
      ]
     },
     "metadata": {},
     "output_type": "display_data"
    }
   ],
   "source": [
    "import matplotlib.pyplot as plt\n",
    "\n",
    "# Tahminlerin sınıf dağılımını hesaplama\n",
    "real_pred_counts = [sum(real_predictions.cpu().numpy() == 0), sum(real_predictions.cpu().numpy() == 1)]\n",
    "labels = ['Normal', 'Anomali']\n",
    "\n",
    "# Pasta grafiği\n",
    "plt.figure(figsize=(6, 6))\n",
    "plt.pie(real_pred_counts, labels=labels, autopct='%1.1f%%', startangle=140, colors=['green', 'red'])\n",
    "plt.title(\"Gerçek Verilerde Tahmin Dağılımı\")\n",
    "plt.show()"
   ]
  },
  {
   "cell_type": "markdown",
   "metadata": {
    "id": "yNbbXSpV9Bqc"
   },
   "source": [
    "Adım 7.4: Yeni Veriler için Anomali Tespiti"
   ]
  },
  {
   "cell_type": "code",
   "execution_count": 85,
   "metadata": {
    "colab": {
     "base_uri": "https://localhost:8080/"
    },
    "id": "q57nBmvy8_4V",
    "outputId": "6a56cf33-3c22-48de-faaa-53863699eeec"
   },
   "outputs": [
    {
     "name": "stdout",
     "output_type": "stream",
     "text": [
      "Log: GET /nonexistent-file HTTP/1.1 --> Tahmin: Normal\n"
     ]
    }
   ],
   "source": [
    "# Tek bir log üzerinde test\n",
    "new_log = \"GET /nonexistent-file HTTP/1.1\"\n",
    "\n",
    "# Tokenize etme\n",
    "new_token = tokenizer.encode_plus(\n",
    "    new_log,\n",
    "    add_special_tokens=True,\n",
    "    max_length=128,\n",
    "    padding='max_length',\n",
    "    truncation=True,\n",
    "    return_tensors='pt'\n",
    ")\n",
    "\n",
    "new_input_ids = new_token['input_ids'].to(device)\n",
    "new_attention_mask = new_token['attention_mask'].to(device)\n",
    "\n",
    "# Tahmin\n",
    "model.eval()\n",
    "with torch.no_grad():\n",
    "    new_output = model(input_ids=new_input_ids, attention_mask=new_attention_mask)\n",
    "    new_prediction = torch.argmax(new_output.logits, dim=1)\n",
    "\n",
    "print(f\"Log: {new_log} --> Tahmin: {'Anomali' if new_prediction.item() == 1 else 'Normal'}\")"
   ]
  },
  {
   "cell_type": "markdown",
   "metadata": {
    "id": "w1meXvlg9IDR"
   },
   "source": [
    "Adım 7: Model Performansının Sonuçlarını Analiz Etme\n",
    "\n",
    "Adım 7.1: Model Performansının Yorumlanması"
   ]
  },
  {
   "cell_type": "code",
   "execution_count": null,
   "metadata": {
    "id": "ubihz4PB9XC9"
   },
   "outputs": [],
   "source": []
  }
 ],
 "metadata": {
  "accelerator": "GPU",
  "colab": {
   "gpuType": "A100",
   "machine_shape": "hm",
   "provenance": []
  },
  "kernelspec": {
   "display_name": "Python 3",
   "name": "python3"
  },
  "language_info": {
   "name": "python"
  }
 },
 "nbformat": 4,
 "nbformat_minor": 0
}
